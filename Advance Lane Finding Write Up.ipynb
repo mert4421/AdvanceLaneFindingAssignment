{
 "cells": [
  {
   "cell_type": "markdown",
   "metadata": {},
   "source": [
    "# Advance Lane Finding Write Up"
   ]
  },
  {
   "cell_type": "markdown",
   "metadata": {},
   "source": [
    "In this write up, i will summarize how i address the rubric points and establish the pipeline for a robust lane finding algorithm."
   ]
  },
  {
   "cell_type": "markdown",
   "metadata": {},
   "source": [
    "# PIPE LINE"
   ]
  },
  {
   "cell_type": "markdown",
   "metadata": {},
   "source": [
    "## 0) Camera Calibration"
   ]
  },
  {
   "cell_type": "markdown",
   "metadata": {},
   "source": [
    "For this step i created a function which is contained in the second cell of AdvanceLaneFinding notebook after the libraries imported.\n",
    "\n",
    "I start by preparing \"object points\", which will be the (x, y, z) coordinates of the chessboard corners in the world. Here I am assuming the chessboard is fixed on the (x, y) plane at z=0, such that the object points are the same for each calibration image. Thus, objp is just a replicated array of coordinates, and objpoints will be appended with a copy of it every time I successfully detect all chessboard corners in a test image. imgpoints will be appended with the (x, y) pixel position of each of the corners in the image plane with each successful chessboard detection.\n",
    "\n",
    "I then used the output objpoints and imgpoints to compute the camera calibration and distortion coefficients using the cv2.calibrateCamera() function. "
   ]
  },
  {
   "cell_type": "markdown",
   "metadata": {},
   "source": [
    "## 1) Sanity Check of the Function for distortion correction"
   ]
  },
  {
   "cell_type": "markdown",
   "metadata": {},
   "source": [
    "After establishing a function for camera calibration, a test image from the vehicle has been utilized to evaluate if the function works on real life images as it works on chessboard."
   ]
  },
  {
   "cell_type": "markdown",
   "metadata": {},
   "source": [
    "## 2) Applying useful threshold methods to generate a binariy image"
   ]
  },
  {
   "cell_type": "markdown",
   "metadata": {},
   "source": [
    "I used a combination of color and gradient thresholds to generate a binary image.\n",
    "\n",
    "Respectively i applied, sobel, gradient transform and color treshold.\n",
    "\n",
    "Afterwards i created a function called \"combine_threshs\" to combine those all methods to generate transformed and thresholded image."
   ]
  },
  {
   "cell_type": "markdown",
   "metadata": {},
   "source": [
    "## 3) Perspective Transform"
   ]
  },
  {
   "cell_type": "markdown",
   "metadata": {},
   "source": [
    "I applied the perspective transform with the function called \"warp\"\n",
    "\n",
    "I found following src and dst points useful:\n"
   ]
  },
  {
   "cell_type": "raw",
   "metadata": {},
   "source": [
    "src_coordinates = np.float32(\n",
    "    [[280,  700],  # Bottom left\n",
    "     [595,  460],  # Top left\n",
    "     [725,  460],  # Top right\n",
    "     [1125, 700]]) # Bottom right\n",
    "\n",
    "dst_coordinates = np.float32(\n",
    "    [[250,  720],  # Bottom left\n",
    "     [250,    0],  # Top left\n",
    "     [1065,   0],  # Top right\n",
    "     [1065, 720]]) # Bottom right  "
   ]
  },
  {
   "cell_type": "markdown",
   "metadata": {},
   "source": [
    "     \n",
    "And i verified that the function is working on a road image"
   ]
  },
  {
   "cell_type": "markdown",
   "metadata": {},
   "source": [
    "## 4) Detecting the lane pixels"
   ]
  },
  {
   "cell_type": "markdown",
   "metadata": {},
   "source": [
    "Then i created a function to generate a histogram lane pixel positions in the image\n",
    "\n",
    "after the histogram on another function i detected the lanes on the warped image"
   ]
  },
  {
   "cell_type": "markdown",
   "metadata": {},
   "source": [
    "## 5) Solving the curve radius"
   ]
  },
  {
   "cell_type": "markdown",
   "metadata": {},
   "source": [
    "with the curvature_radius function, i compute the radius of the lanes in the image"
   ]
  },
  {
   "cell_type": "raw",
   "metadata": {},
   "source": [
    "curvature_rads = curvature_radius(leftx=left_points[0], rightx=right_points[0], img_shape = img.shape)\n",
    "\n",
    "print('Left line curvature:', curvature_rads[0], 'm')\n",
    "print('Right line curvature:', curvature_rads[1], 'm')"
   ]
  },
  {
   "cell_type": "markdown",
   "metadata": {},
   "source": [
    "## 6) Combining the processed image with the raw image"
   ]
  },
  {
   "cell_type": "markdown",
   "metadata": {},
   "source": [
    "i created another function to combine both processed and raw image to show detected lanes and the area between them"
   ]
  },
  {
   "cell_type": "markdown",
   "metadata": {},
   "source": [
    "## 7) Illustrating the lane info on the image"
   ]
  },
  {
   "cell_type": "markdown",
   "metadata": {},
   "source": [
    "I added the curvature info on the image"
   ]
  },
  {
   "cell_type": "markdown",
   "metadata": {},
   "source": [
    "## 8) Finally, rendering it on a video"
   ]
  },
  {
   "cell_type": "markdown",
   "metadata": {},
   "source": [
    "I applied the pipeline on the video"
   ]
  },
  {
   "cell_type": "markdown",
   "metadata": {},
   "source": [
    "# DISCUSSION"
   ]
  },
  {
   "cell_type": "markdown",
   "metadata": {},
   "source": [
    "The methods utilized seem to be working correctly on the video, it may still have some noises under shadow or dark images."
   ]
  },
  {
   "cell_type": "code",
   "execution_count": null,
   "metadata": {},
   "outputs": [],
   "source": []
  }
 ],
 "metadata": {
  "kernelspec": {
   "display_name": "Python 3",
   "language": "python",
   "name": "python3"
  },
  "language_info": {
   "codemirror_mode": {
    "name": "ipython",
    "version": 3
   },
   "file_extension": ".py",
   "mimetype": "text/x-python",
   "name": "python",
   "nbconvert_exporter": "python",
   "pygments_lexer": "ipython3",
   "version": "3.7.6"
  }
 },
 "nbformat": 4,
 "nbformat_minor": 4
}
